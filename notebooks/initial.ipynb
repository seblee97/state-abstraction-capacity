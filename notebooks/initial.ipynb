{
 "cells": [
  {
   "cell_type": "code",
   "execution_count": 20,
   "id": "77062c28-1e9c-4eb1-a87a-66e59432b682",
   "metadata": {},
   "outputs": [],
   "source": [
    "import numpy as np\n",
    "\n",
    "import matplotlib.pyplot as plt"
   ]
  },
  {
   "cell_type": "code",
   "execution_count": 21,
   "id": "026b0ca3-c06a-462d-a1e8-d56fbe356299",
   "metadata": {},
   "outputs": [],
   "source": [
    "from key_door import key_door_env, visualisation_env\n",
    "from sac import utils, binary_maze\n",
    "\n",
    "from sac.key_door_env_ego import KeyDoorEnvEgocentric"
   ]
  },
  {
   "cell_type": "code",
   "execution_count": 22,
   "id": "88b56ac0",
   "metadata": {},
   "outputs": [],
   "source": [
    "# Meister maze minimized MDP\n",
    "tree_depth = 6\n",
    "S, A = np.sum([2**x for x in range(tree_depth)]), 3\n",
    "\n",
    "# Transition matrix (binary tree)\n",
    "P = np.zeros((S, A, S))\n",
    "for r in range(tree_depth - 1):\n",
    "    for s in range(2**r):\n",
    "        P[2**r - 1 + s, 0, 2**(r + 1) - 1 + 2 * s] = 1.0\n",
    "        P[2**r - 1 + s, 1, 2**(r + 1) - 1 + 2 * s + 1] = 1.0\n",
    "        if r > 0:\n",
    "            P[2**r - 1 + s, 2, 2**(r - 1) - 1 + s // 2] = 1.0\n",
    "\n",
    "# leaf nodes transition to previous level\n",
    "for s in range(2**(tree_depth - 1)):\n",
    "    P[2**(tree_depth - 1) - 1 + s, 2, 2**(tree_depth - 2) - 1 + s // 2] = 1.0\n",
    "\n",
    "# Reward function (only at one leaf - action leading to the goal)\n",
    "R = np.zeros((S, A))\n",
    "R[2**(tree_depth - 1) - 1, 0] = 1.0"
   ]
  },
  {
   "cell_type": "code",
   "execution_count": 23,
   "id": "8e9e8d52",
   "metadata": {},
   "outputs": [],
   "source": [
    "blocks, label = utils.deterministic_bisimulation(P, R)"
   ]
  },
  {
   "cell_type": "code",
   "execution_count": 24,
   "id": "e1365cbc",
   "metadata": {},
   "outputs": [
    {
     "data": {
      "text/plain": [
       "[[0],\n",
       " [1],\n",
       " [2],\n",
       " [3],\n",
       " [4],\n",
       " [5, 6],\n",
       " [7],\n",
       " [8],\n",
       " [9, 10],\n",
       " [11, 12, 13, 14],\n",
       " [15],\n",
       " [16],\n",
       " [17, 18],\n",
       " [19, 20, 21, 22],\n",
       " [23, 24, 25, 26, 27, 28, 29, 30],\n",
       " [31],\n",
       " [32],\n",
       " [33, 34],\n",
       " [35, 36, 37, 38],\n",
       " [39, 40, 41, 42, 43, 44, 45, 46],\n",
       " [47, 48, 49, 50, 51, 52, 53, 54, 55, 56, 57, 58, 59, 60, 61, 62]]"
      ]
     },
     "execution_count": 24,
     "metadata": {},
     "output_type": "execute_result"
    }
   ],
   "source": [
    "blocks"
   ]
  },
  {
   "cell_type": "code",
   "execution_count": 25,
   "id": "222f23c6",
   "metadata": {},
   "outputs": [
    {
     "data": {
      "text/plain": [
       "(np.int64(63), 21)"
      ]
     },
     "execution_count": 25,
     "metadata": {},
     "output_type": "execute_result"
    }
   ],
   "source": [
    "S, len(blocks)"
   ]
  },
  {
   "cell_type": "code",
   "execution_count": 26,
   "id": "a1d1d31c",
   "metadata": {},
   "outputs": [
    {
     "name": "stdout",
     "output_type": "stream",
     "text": [
      "#############################################\n",
      "#############################################\n",
      "#############################################\n",
      "#############################################\n",
      "#############################################\n",
      "#####     #####     #####     #####    R#####\n",
      "####### ######### ######### ######### #######\n",
      "#######           #########           #######\n",
      "####### #### #### ######### #### #### #######\n",
      "#####     ## ##     #####     ## ##     #####\n",
      "############ ################### ############\n",
      "############ ################### ############\n",
      "############                     ############\n",
      "############ ######### ######### ############\n",
      "############ ######### ######### ############\n",
      "#####     ## ##     ## ##     ## ##     #####\n",
      "####### #### #### #### #### #### #### #######\n",
      "#######           #### ####           #######\n",
      "####### ######### #### #### ######### #######\n",
      "#####     #####     ## ##     #####     #####\n",
      "###################### ######################\n",
      "###################### ######################\n",
      "##S                    ######################\n",
      "###################### ######################\n",
      "###################### ######################\n",
      "#####     #####     ## ##     #####     #####\n",
      "####### ######### #### #### ######### #######\n",
      "#######           #### ####           #######\n",
      "####### #### #### #### #### #### #### #######\n",
      "#####     ## ##     ## ##     ## ##     #####\n",
      "############ ######### ######### ############\n",
      "############ ######### ######### ############\n",
      "############                     ############\n",
      "############ ################### ############\n",
      "############ ################### ############\n",
      "#####     ## ##     #####     ## ##     #####\n",
      "####### #### #### ######### #### #### #######\n",
      "#######           #########           #######\n",
      "####### ######### ######### ######### #######\n",
      "#####     #####     #####     #####     #####\n",
      "#############################################\n",
      "#############################################\n",
      "#############################################\n",
      "#############################################\n",
      "#############################################\n"
     ]
    }
   ],
   "source": [
    "maze_str, start_pos, reward_pos = binary_maze.generate_maze_from_mdp(tree_depth, P, R)\n",
    "print(maze_str)"
   ]
  },
  {
   "cell_type": "code",
   "execution_count": 27,
   "id": "38f91685",
   "metadata": {},
   "outputs": [
    {
     "data": {
      "text/plain": [
       "((22, 2), (5, 39))"
      ]
     },
     "execution_count": 27,
     "metadata": {},
     "output_type": "execute_result"
    }
   ],
   "source": [
    "start_pos, reward_pos"
   ]
  },
  {
   "cell_type": "code",
   "execution_count": 28,
   "id": "d18a25ea",
   "metadata": {},
   "outputs": [],
   "source": [
    "with open(\"meister_maze.txt\", \"w\") as f:\n",
    "    f.write(maze_str)"
   ]
  },
  {
   "cell_type": "code",
   "execution_count": 29,
   "id": "0ab27ff5-5378-41f0-8888-93eee800afdf",
   "metadata": {},
   "outputs": [],
   "source": [
    "map_path = 'meister_maze.txt'\n",
    "map_yaml_path = 'meister_maze.yaml'\n",
    "\n",
    "# map_path = 'square_map.txt'\n",
    "# map_yaml_path = 'square_map.yaml'"
   ]
  },
  {
   "cell_type": "code",
   "execution_count": 30,
   "id": "0abfa978-3ef3-4483-972a-3a43e0500260",
   "metadata": {},
   "outputs": [],
   "source": [
    "episode_timeout = 1000"
   ]
  },
  {
   "cell_type": "code",
   "execution_count": 31,
   "id": "9fa91dc1-74be-4b84-a2c8-fd699dcc8a95",
   "metadata": {},
   "outputs": [],
   "source": [
    "env = key_door_env.KeyDoorEnv(map_ascii_path=map_path, map_yaml_path=map_yaml_path, representation=\"agent_position\", episode_timeout=episode_timeout)\n",
    "vis_env = visualisation_env.VisualisationEnv(env)"
   ]
  },
  {
   "cell_type": "code",
   "execution_count": 32,
   "id": "60274225",
   "metadata": {},
   "outputs": [],
   "source": [
    "ego_env = KeyDoorEnvEgocentric(map_ascii_path=map_path, map_yaml_path=map_yaml_path, representation=\"egocentric\", episode_timeout=episode_timeout)\n",
    "vis_ego_env = visualisation_env.VisualisationEnv(ego_env)"
   ]
  },
  {
   "cell_type": "code",
   "execution_count": 33,
   "id": "c1e6c63c-05de-4b0a-8549-0c85b3ffe8c0",
   "metadata": {},
   "outputs": [],
   "source": [
    "env.reset_environment(train=True)\n",
    "vis_env.reset_environment(train=True)\n",
    "\n",
    "ego_env.reset_environment(train=True)\n",
    "vis_ego_env.reset_environment(train=True)"
   ]
  },
  {
   "cell_type": "code",
   "execution_count": 34,
   "id": "5cfda615-6633-4249-b297-7ce8eef54bd5",
   "metadata": {},
   "outputs": [
    {
     "data": {
      "image/png": "[encoded data removed]",
      "text/plain": [
       "<Figure size 640x480 with 1 Axes>"
      ]
     },
     "metadata": {},
     "output_type": "display_data"
    }
   ],
   "source": [
    "vis_env.render()"
   ]
  },
  {
   "cell_type": "code",
   "execution_count": 16,
   "id": "eec08e78-f140-4642-894c-5716cce11ee6",
   "metadata": {},
   "outputs": [],
   "source": [
    "state_id_mapping = {state: i for i, state in enumerate(env.positional_state_space)}\n",
    "id_state_mapping = {i: state for i, state in enumerate(env.positional_state_space)}"
   ]
  },
  {
   "cell_type": "code",
   "execution_count": 17,
   "id": "93cc9d5e-6dab-4b32-890a-f1555b9889b7",
   "metadata": {},
   "outputs": [
    {
     "name": "stdout",
     "output_type": "stream",
     "text": [
      "From state (np.int64(38), np.int64(5)) taking action 2 to state (np.int64(39), np.int64(5), np.int64(1)) with reward 1.0395627215610836\n"
     ]
    }
   ],
   "source": [
    "S = len(env.positional_state_space)\n",
    "A = len(env.action_space)\n",
    "\n",
    "P = np.zeros((S, A, S))\n",
    "R = np.zeros((S, A))\n",
    "\n",
    "reward_positions = list(env._rewards.keys())\n",
    "\n",
    "for state in env.positional_state_space:\n",
    "    state_index = state_id_mapping[state]\n",
    "    if state not in reward_positions:\n",
    "        for action in env.action_space:\n",
    "            # set env and transition\n",
    "            env.reset_environment(train=True)\n",
    "            env.move_agent_to(state)\n",
    "            reward, new_state = env.step(action)\n",
    "            if reward > 0:\n",
    "                print(f\"From state {state} taking action {action} to state {new_state} with reward {reward}\")\n",
    "            # import pdb; pdb.set_trace()\n",
    "            new_state_index = state_id_mapping[new_state[:2]]\n",
    "            P[state_index][action][new_state_index] = 1\n",
    "            R[state_index][action] = reward"
   ]
  },
  {
   "cell_type": "code",
   "execution_count": 17,
   "id": "643291ec-f557-422d-96db-fcdec02fea53",
   "metadata": {},
   "outputs": [],
   "source": [
    "blocks, label = utils.deterministic_bisimulation(P, R)"
   ]
  },
  {
   "cell_type": "code",
   "execution_count": 18,
   "id": "befed1b4-9cae-4a44-9759-f2913db8aaf2",
   "metadata": {},
   "outputs": [
    {
     "data": {
      "text/plain": [
       "(393, 393)"
      ]
     },
     "execution_count": 18,
     "metadata": {},
     "output_type": "execute_result"
    }
   ],
   "source": [
    "S, len(blocks)"
   ]
  },
  {
   "cell_type": "code",
   "execution_count": 19,
   "id": "4302c13c-c87c-4cac-a244-6fe3ed7cc75d",
   "metadata": {},
   "outputs": [],
   "source": [
    "state_blocks, sa_blocks, state_label, sa_label, P_tilde, R_tilde, action_index_per_block = utils.joint_state_action_abstraction(P, R)"
   ]
  },
  {
   "cell_type": "code",
   "execution_count": 20,
   "id": "34a0d35b",
   "metadata": {},
   "outputs": [
    {
     "data": {
      "text/plain": [
       "(393, 142)"
      ]
     },
     "execution_count": 20,
     "metadata": {},
     "output_type": "execute_result"
    }
   ],
   "source": [
    "S, len(state_blocks)"
   ]
  },
  {
   "cell_type": "code",
   "execution_count": 32,
   "id": "b3304a40",
   "metadata": {},
   "outputs": [],
   "source": [
    "# create a dictionary mapping state coordinate tuple to state label\n",
    "state_to_label = {id_state_mapping[i]: state_label[i] for i in range(len(state_label))}\n",
    "\n",
    "vis_env.plot_heatmap_over_env(state_to_label, save_name='state_aggregation.pdf')\n",
    "vis_env.plot_heatmap_over_env(state_to_label, save_name='state_aggregation.png')"
   ]
  },
  {
   "cell_type": "code",
   "execution_count": 21,
   "id": "ea816588",
   "metadata": {},
   "outputs": [
    {
     "data": {
      "text/plain": [
       "143"
      ]
     },
     "execution_count": 21,
     "metadata": {},
     "output_type": "execute_result"
    }
   ],
   "source": [
    "len(sa_blocks)"
   ]
  },
  {
   "cell_type": "markdown",
   "id": "a441b210",
   "metadata": {},
   "source": [
    "## Egocentric action space"
   ]
  },
  {
   "cell_type": "code",
   "execution_count": 35,
   "id": "5c37f812-394e-474f-90b0-03cd97187172",
   "metadata": {},
   "outputs": [],
   "source": [
    "state_id_mapping = {state: i for i, state in enumerate(ego_env.state_space)}\n",
    "id_state_mapping = {i: state for i, state in enumerate(ego_env.state_space)}"
   ]
  },
  {
   "cell_type": "code",
   "execution_count": 36,
   "id": "d63515d2",
   "metadata": {},
   "outputs": [
    {
     "ename": "AssertionError",
     "evalue": "Position must be a tuple of (x,y) coordinates.",
     "output_type": "error",
     "traceback": [
      "\u001b[31m---------------------------------------------------------------------------\u001b[39m",
      "\u001b[31mAssertionError\u001b[39m                            Traceback (most recent call last)",
      "\u001b[36mCell\u001b[39m\u001b[36m \u001b[39m\u001b[32mIn[36]\u001b[39m\u001b[32m, line 15\u001b[39m\n\u001b[32m     12\u001b[39m \u001b[38;5;28;01mfor\u001b[39;00m action \u001b[38;5;129;01min\u001b[39;00m ego_env.action_space:\n\u001b[32m     13\u001b[39m     \u001b[38;5;66;03m# set env and transition\u001b[39;00m\n\u001b[32m     14\u001b[39m     ego_env.reset_environment(train=\u001b[38;5;28;01mTrue\u001b[39;00m)\n\u001b[32m---> \u001b[39m\u001b[32m15\u001b[39m     \u001b[43mego_env\u001b[49m\u001b[43m.\u001b[49m\u001b[43mmove_agent_to\u001b[49m\u001b[43m(\u001b[49m\u001b[43mstate\u001b[49m\u001b[43m)\u001b[49m\n\u001b[32m     16\u001b[39m     reward, new_state = ego_env.step(action)\n\u001b[32m     17\u001b[39m     \u001b[38;5;28;01mif\u001b[39;00m reward > \u001b[32m0\u001b[39m:\n",
      "\u001b[36mFile \u001b[39m\u001b[32m~/workspace/state-abstraction-capacity/src/key-door-seblee97/key_door/key_door_env.py:399\u001b[39m, in \u001b[36mKeyDoorEnv.move_agent_to\u001b[39m\u001b[34m(self, position)\u001b[39m\n\u001b[32m    396\u001b[39m \u001b[38;5;28;01mdef\u001b[39;00m\u001b[38;5;250m \u001b[39m\u001b[34mmove_agent_to\u001b[39m(\u001b[38;5;28mself\u001b[39m, position: Tuple[\u001b[38;5;28mint\u001b[39m, \u001b[38;5;28mint\u001b[39m]) -> \u001b[38;5;28;01mNone\u001b[39;00m:\n\u001b[32m    397\u001b[39m \u001b[38;5;250m    \u001b[39m\u001b[33;03m\"\"\"Move agent to specific position, if not a wall or locked door.\"\"\"\u001b[39;00m\n\u001b[32m    398\u001b[39m     \u001b[38;5;28;01massert\u001b[39;00m (\n\u001b[32m--> \u001b[39m\u001b[32m399\u001b[39m         \u001b[38;5;28misinstance\u001b[39m(position, \u001b[38;5;28mtuple\u001b[39m) \u001b[38;5;129;01mand\u001b[39;00m \u001b[38;5;28mlen\u001b[39m(position) == \u001b[32m2\u001b[39m\n\u001b[32m    400\u001b[39m     ), \u001b[33m\"\u001b[39m\u001b[33mPosition must be a tuple of (x,y) coordinates.\u001b[39m\u001b[33m\"\u001b[39m\n\u001b[32m    401\u001b[39m     moving_into_wall = position \u001b[38;5;129;01min\u001b[39;00m \u001b[38;5;28mself\u001b[39m._wall_state_space\n\u001b[32m    402\u001b[39m     \u001b[38;5;28;01mif\u001b[39;00m \u001b[38;5;129;01mnot\u001b[39;00m moving_into_wall:\n",
      "\u001b[31mAssertionError\u001b[39m: Position must be a tuple of (x,y) coordinates."
     ]
    }
   ],
   "source": [
    "S = len(ego_env.state_space)\n",
    "A = len(ego_env.action_space)\n",
    "\n",
    "P = np.zeros((S, A, S))\n",
    "R = np.zeros((S, A))\n",
    "\n",
    "reward_positions = list(ego_env._rewards.keys())\n",
    "\n",
    "for state in ego_env.state_space:\n",
    "    state_index = state_id_mapping[state]\n",
    "    if state not in reward_positions:\n",
    "        for action in ego_env.action_space:\n",
    "            # set env and transition\n",
    "            ego_env.reset_environment(train=True)\n",
    "            ego_env.move_agent_to(state)\n",
    "            reward, new_state = ego_env.step(action)\n",
    "            if reward > 0:\n",
    "                print(f\"From state {state} taking action {action} to state {new_state} with reward {reward}\")\n",
    "            # import pdb; pdb.set_trace()\n",
    "            new_state_index = state_id_mapping[new_state[:2]]\n",
    "            P[state_index][action][new_state_index] = 1\n",
    "            R[state_index][action] = reward"
   ]
  },
  {
   "cell_type": "code",
   "execution_count": 37,
   "id": "1ede91b5",
   "metadata": {},
   "outputs": [
    {
     "data": {
      "text/plain": [
       "{0, 1, 2}"
      ]
     },
     "execution_count": 37,
     "metadata": {},
     "output_type": "execute_result"
    }
   ],
   "source": [
    "ego_env.action_space"
   ]
  },
  {
   "cell_type": "code",
   "execution_count": 38,
   "id": "c38d6caa",
   "metadata": {},
   "outputs": [
    {
     "data": {
      "text/plain": [
       "(np.int64(39), np.int64(39), np.int64(0))"
      ]
     },
     "execution_count": 38,
     "metadata": {},
     "output_type": "execute_result"
    }
   ],
   "source": [
    "new_state"
   ]
  },
  {
   "cell_type": "code",
   "execution_count": 39,
   "id": "71ca8dd4",
   "metadata": {},
   "outputs": [
    {
     "data": {
      "text/plain": [
       "(np.int64(5), np.int64(5))"
      ]
     },
     "execution_count": 39,
     "metadata": {},
     "output_type": "execute_result"
    }
   ],
   "source": [
    "state[0]"
   ]
  },
  {
   "cell_type": "code",
   "execution_count": 55,
   "id": "95f0a464",
   "metadata": {},
   "outputs": [
    {
     "data": {
      "text/plain": [
       "((np.int64(5), np.int64(5)), (0,), (), (0,))"
      ]
     },
     "execution_count": 55,
     "metadata": {},
     "output_type": "execute_result"
    }
   ],
   "source": [
    "state"
   ]
  },
  {
   "cell_type": "code",
   "execution_count": null,
   "id": "db94eb9b",
   "metadata": {},
   "outputs": [],
   "source": []
  }
 ],
 "metadata": {
  "kernelspec": {
   "display_name": "sac",
   "language": "python",
   "name": "python3"
  },
  "language_info": {
   "codemirror_mode": {
    "name": "ipython",
    "version": 3
   },
   "file_extension": ".py",
   "mimetype": "text/x-python",
   "name": "python",
   "nbconvert_exporter": "python",
   "pygments_lexer": "ipython3",
   "version": "3.12.11"
  }
 },
 "nbformat": 4,
 "nbformat_minor": 5
}
