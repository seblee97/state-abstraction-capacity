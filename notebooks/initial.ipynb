{
 "cells": [
  {
   "cell_type": "code",
   "execution_count": 1,
   "id": "77062c28-1e9c-4eb1-a87a-66e59432b682",
   "metadata": {},
   "outputs": [],
   "source": [
    "import numpy as np"
   ]
  },
  {
   "cell_type": "code",
   "execution_count": 2,
   "id": "026b0ca3-c06a-462d-a1e8-d56fbe356299",
   "metadata": {},
   "outputs": [],
   "source": [
    "from key_door import key_door_env, visualisation_env\n",
    "from sac import utils"
   ]
  },
  {
   "cell_type": "code",
   "execution_count": 3,
   "id": "0ab27ff5-5378-41f0-8888-93eee800afdf",
   "metadata": {},
   "outputs": [],
   "source": [
    "map_path = 'square_map.txt'\n",
    "map_yaml_path = 'square_map.yaml'\n",
    "\n",
    "# map_path = 'square_map.txt'\n",
    "# map_yaml_path = 'square_map.yaml'"
   ]
  },
  {
   "cell_type": "code",
   "execution_count": 4,
   "id": "0abfa978-3ef3-4483-972a-3a43e0500260",
   "metadata": {},
   "outputs": [],
   "source": [
    "episode_timeout = 1000"
   ]
  },
  {
   "cell_type": "code",
   "execution_count": 5,
   "id": "9fa91dc1-74be-4b84-a2c8-fd699dcc8a95",
   "metadata": {},
   "outputs": [],
   "source": [
    "env = key_door_env.KeyDoorEnv(map_ascii_path=map_path, map_yaml_path=map_yaml_path, representation=\"agent_position\", episode_timeout=episode_timeout)\n",
    "env = visualisation_env.VisualisationEnv(env)"
   ]
  },
  {
   "cell_type": "code",
   "execution_count": 6,
   "id": "c1e6c63c-05de-4b0a-8549-0c85b3ffe8c0",
   "metadata": {},
   "outputs": [
    {
     "data": {
      "text/plain": [
       "(np.int64(2), np.int64(3), np.int64(0))"
      ]
     },
     "execution_count": 6,
     "metadata": {},
     "output_type": "execute_result"
    }
   ],
   "source": [
    "env.reset_environment(train=True)"
   ]
  },
  {
   "cell_type": "code",
   "execution_count": 7,
   "id": "5cfda615-6633-4249-b297-7ce8eef54bd5",
   "metadata": {},
   "outputs": [
    {
     "data": {
      "image/png": "[encoded data removed]",
      "text/plain": [
       "<Figure size 640x480 with 1 Axes>"
      ]
     },
     "metadata": {},
     "output_type": "display_data"
    }
   ],
   "source": [
    "env.render()"
   ]
  },
  {
   "cell_type": "code",
   "execution_count": 8,
   "id": "eec08e78-f140-4642-894c-5716cce11ee6",
   "metadata": {},
   "outputs": [],
   "source": [
    "state_id_mapping = {state: i for i, state in enumerate(env.positional_state_space)}\n",
    "id_state_mapping = {i: state for i, state in enumerate(env.positional_state_space)}"
   ]
  },
  {
   "cell_type": "code",
   "execution_count": 9,
   "id": "93cc9d5e-6dab-4b32-890a-f1555b9889b7",
   "metadata": {},
   "outputs": [],
   "source": [
    "S = len(env.positional_state_space)\n",
    "A = len(env.action_space)\n",
    "\n",
    "P = np.zeros((S, A, S))\n",
    "R = np.zeros((S, A))\n",
    "\n",
    "reward_positions = list(env._env._rewards.keys())\n",
    "\n",
    "for state in env.positional_state_space:\n",
    "    state_index = state_id_mapping[state]\n",
    "    if state not in reward_positions:\n",
    "        for action in env.action_space:\n",
    "            # set env and transition\n",
    "            env.reset_environment(train=True)\n",
    "            env.move_agent_to(state)\n",
    "            reward, new_state = env.step(action)\n",
    "            # import pdb; pdb.set_trace()\n",
    "            new_state_index = state_id_mapping[new_state[:2]]\n",
    "            P[state_index][action][new_state_index] = 1\n",
    "            R[state_index][action] = reward"
   ]
  },
  {
   "cell_type": "code",
   "execution_count": 10,
   "id": "4302c13c-c87c-4cac-a244-6fe3ed7cc75d",
   "metadata": {},
   "outputs": [],
   "source": [
    "state_blocks, sa_blocks, state_label, sa_label, P_tilde, R_tilde, action_index_per_block = utils.joint_state_action_abstraction(P, R)"
   ]
  },
  {
   "cell_type": "code",
   "execution_count": 11,
   "id": "cf7f395d-aec0-42fa-85d1-1e84f59802be",
   "metadata": {},
   "outputs": [
    {
     "data": {
      "text/plain": [
       "[[0], [1], [2], [3], [4], [5], [6], [7], [8]]"
      ]
     },
     "execution_count": 11,
     "metadata": {},
     "output_type": "execute_result"
    }
   ],
   "source": [
    "state_blocks"
   ]
  },
  {
   "cell_type": "code",
   "execution_count": 20,
   "id": "665702e9-4441-46cc-a69e-023b6bc7d54f",
   "metadata": {},
   "outputs": [
    {
     "data": {
      "text/plain": [
       "[[(0, 0), (0, 3), (1, 0), (3, 3)],\n",
       " [(0, 1), (3, 0), (6, 3)],\n",
       " [(0, 2), (1, 3), (2, 0)],\n",
       " [(1, 1)],\n",
       " [(1, 2), (2, 2), (2, 3), (5, 3)],\n",
       " [(2, 1), (5, 2), (8, 3)],\n",
       " [(3, 1), (6, 0), (6, 1), (7, 0)],\n",
       " [(3, 2)],\n",
       " [(4, 0), (4, 1), (4, 2), (4, 3)],\n",
       " [(5, 0)],\n",
       " [(5, 1), (7, 2), (8, 1), (8, 2)],\n",
       " [(6, 2), (7, 1), (8, 0)],\n",
       " [(7, 3)]]"
      ]
     },
     "execution_count": 20,
     "metadata": {},
     "output_type": "execute_result"
    }
   ],
   "source": [
    "sa_blocks"
   ]
  },
  {
   "cell_type": "code",
   "execution_count": 21,
   "id": "fb486b4b-c750-4a2a-a75e-63475778699a",
   "metadata": {},
   "outputs": [
    {
     "data": {
      "text/plain": [
       "[{np.int64(0): 0, np.int64(1): 1, np.int64(2): 2},\n",
       " {np.int64(0): 0, np.int64(2): 1, np.int64(3): 2, np.int64(4): 3},\n",
       " {np.int64(2): 0, np.int64(4): 1, np.int64(5): 2},\n",
       " {np.int64(0): 0, np.int64(1): 1, np.int64(6): 2, np.int64(7): 3},\n",
       " {np.int64(8): 0},\n",
       " {np.int64(4): 0, np.int64(5): 1, np.int64(9): 2, np.int64(10): 3},\n",
       " {np.int64(1): 0, np.int64(6): 1, np.int64(11): 2},\n",
       " {np.int64(6): 0, np.int64(10): 1, np.int64(11): 2, np.int64(12): 3},\n",
       " {np.int64(5): 0, np.int64(10): 1, np.int64(11): 2}]"
      ]
     },
     "execution_count": 21,
     "metadata": {},
     "output_type": "execute_result"
    }
   ],
   "source": [
    "action_index_per_block"
   ]
  },
  {
   "cell_type": "code",
   "execution_count": 13,
   "id": "4d83174d-f5a0-4f5b-bfb9-0db9dc9cd8f9",
   "metadata": {},
   "outputs": [
    {
     "data": {
      "text/plain": [
       "array([0, 1, 2, 3, 4, 5, 6, 7, 8])"
      ]
     },
     "execution_count": 13,
     "metadata": {},
     "output_type": "execute_result"
    }
   ],
   "source": [
    "state_label"
   ]
  },
  {
   "cell_type": "code",
   "execution_count": 14,
   "id": "b901fae5-a59b-485e-b8c4-b19e67057dd5",
   "metadata": {},
   "outputs": [
    {
     "data": {
      "text/plain": [
       "array([[ 0,  1,  2,  0],\n",
       "       [ 0,  3,  4,  2],\n",
       "       [ 2,  5,  4,  4],\n",
       "       [ 1,  6,  7,  0],\n",
       "       [ 8,  8,  8,  8],\n",
       "       [ 9, 10,  5,  4],\n",
       "       [ 6,  6, 11,  1],\n",
       "       [ 6, 11, 10, 12],\n",
       "       [11, 10, 10,  5]])"
      ]
     },
     "execution_count": 14,
     "metadata": {},
     "output_type": "execute_result"
    }
   ],
   "source": [
    "sa_label"
   ]
  },
  {
   "cell_type": "code",
   "execution_count": 37,
   "id": "643291ec-f557-422d-96db-fcdec02fea53",
   "metadata": {},
   "outputs": [],
   "source": [
    "blocks, label = utils.deterministic_bisimulation(P, R)"
   ]
  },
  {
   "cell_type": "code",
   "execution_count": 38,
   "id": "befed1b4-9cae-4a44-9759-f2913db8aaf2",
   "metadata": {},
   "outputs": [
    {
     "data": {
      "text/plain": [
       "47"
      ]
     },
     "execution_count": 38,
     "metadata": {},
     "output_type": "execute_result"
    }
   ],
   "source": [
    "len(blocks)"
   ]
  },
  {
   "cell_type": "code",
   "execution_count": 28,
   "id": "7c8fc820-78dd-48cd-954e-1f160ad7c065",
   "metadata": {},
   "outputs": [
    {
     "data": {
      "text/plain": [
       "array([0, 1, 2, 3, 4, 5, 6, 7, 8])"
      ]
     },
     "execution_count": 28,
     "metadata": {},
     "output_type": "execute_result"
    }
   ],
   "source": [
    "label"
   ]
  },
  {
   "cell_type": "code",
   "execution_count": 25,
   "id": "c5222e39-ac7d-4c12-b1f3-04ca1507baf6",
   "metadata": {},
   "outputs": [
    {
     "data": {
      "image/png": "[encoded data removed]",
      "text/plain": [
       "<Figure size 640x480 with 1 Axes>"
      ]
     },
     "metadata": {},
     "output_type": "display_data"
    }
   ],
   "source": [
    "env.render()"
   ]
  },
  {
   "cell_type": "code",
   "execution_count": null,
   "id": "b9288a4c-a812-4515-a491-e4dd4cc3a812",
   "metadata": {},
   "outputs": [],
   "source": []
  },
  {
   "cell_type": "code",
   "execution_count": 11,
   "id": "56155e8d-9d2e-4e53-8b0b-13a6a5fcbea7",
   "metadata": {},
   "outputs": [],
   "source": [
    "env.move_agent_to(env.state_space[0][:2])"
   ]
  },
  {
   "cell_type": "code",
   "execution_count": 19,
   "id": "f1b0325c-afa7-434d-b910-de549ff5ed45",
   "metadata": {},
   "outputs": [
    {
     "data": {
      "text/plain": [
       "array([[0.   , 0.   , 0.   , 0.   , 0.   , 0.   , 0.   , 0.   , 0.   ,\n",
       "        0.   , 0.   ],\n",
       "       [0.   , 0.5  , 1.   , 1.   , 1.   , 1.   , 1.   , 1.   , 1.   ,\n",
       "        1.   , 0.   ],\n",
       "       [0.   , 1.   , 1.   , 1.   , 1.   , 1.   , 0.   , 1.   , 1.   ,\n",
       "        1.   , 0.   ],\n",
       "       [0.   , 1.   , 1.   , 0.   , 1.   , 1.   , 1.   , 1.   , 1.   ,\n",
       "        1.   , 0.   ],\n",
       "       [0.   , 1.   , 1.   , 0.   , 1.   , 1.   , 1.   , 1.   , 0.   ,\n",
       "        1.   , 0.   ],\n",
       "       [0.   , 1.   , 1.   , 0.   , 1.   , 1.   , 1.   , 1.   , 0.   ,\n",
       "        1.   , 0.   ],\n",
       "       [0.   , 1.   , 1.   , 1.   , 1.   , 1.   , 1.   , 1.   , 0.   ,\n",
       "        0.299, 0.   ],\n",
       "       [0.   , 0.   , 0.   , 0.   , 0.   , 0.   , 0.   , 0.   , 0.   ,\n",
       "        0.   , 0.   ]])"
      ]
     },
     "execution_count": 19,
     "metadata": {},
     "output_type": "execute_result"
    }
   ],
   "source": [
    "env.get_state_representation()[0][0]"
   ]
  },
  {
   "cell_type": "code",
   "execution_count": 12,
   "id": "d45c0dae-c3b6-4515-8f35-59dfe78ebba6",
   "metadata": {},
   "outputs": [
    {
     "data": {
      "image/png": "[encoded data removed]",
      "text/plain": [
       "<Figure size 640x480 with 1 Axes>"
      ]
     },
     "metadata": {},
     "output_type": "display_data"
    }
   ],
   "source": [
    "env.render()"
   ]
  },
  {
   "cell_type": "code",
   "execution_count": 21,
   "id": "ca5436ad-4239-428d-a9da-b1e6d5c31843",
   "metadata": {},
   "outputs": [],
   "source": [
    "import matplotlib.pyplot as plt"
   ]
  },
  {
   "cell_type": "code",
   "execution_count": 24,
   "id": "d55f9f47-09a2-457f-a48a-fab6ee858e89",
   "metadata": {},
   "outputs": [
    {
     "data": {
      "text/plain": [
       "(1, 1, 8, 11)"
      ]
     },
     "execution_count": 24,
     "metadata": {},
     "output_type": "execute_result"
    }
   ],
   "source": [
    "env.get_state_representation().shape"
   ]
  },
  {
   "cell_type": "code",
   "execution_count": 30,
   "id": "2a9e1d0a-e0ad-437e-a988-2391d26f9dd0",
   "metadata": {},
   "outputs": [
    {
     "data": {
      "text/plain": [
       "[(np.int64(1), np.int64(1), 0),\n",
       " (np.int64(1), np.int64(1), 1),\n",
       " (np.int64(2), np.int64(1), 0),\n",
       " (np.int64(2), np.int64(1), 1),\n",
       " (np.int64(3), np.int64(1), 0),\n",
       " (np.int64(3), np.int64(1), 1),\n",
       " (np.int64(4), np.int64(1), 0),\n",
       " (np.int64(4), np.int64(1), 1),\n",
       " (np.int64(5), np.int64(1), 0),\n",
       " (np.int64(5), np.int64(1), 1)]"
      ]
     },
     "execution_count": 30,
     "metadata": {},
     "output_type": "execute_result"
    }
   ],
   "source": [
    "env.state_space[:10]"
   ]
  },
  {
   "cell_type": "code",
   "execution_count": 28,
   "id": "6e78c5ea-bd90-43ee-8828-d1c9a4044ef7",
   "metadata": {},
   "outputs": [
    {
     "data": {
      "image/png": "[encoded data removed]",
      "text/plain": [
       "<Figure size 640x480 with 1 Axes>"
      ]
     },
     "metadata": {},
     "output_type": "display_data"
    }
   ],
   "source": [
    "env.render()"
   ]
  },
  {
   "cell_type": "code",
   "execution_count": 26,
   "id": "42269e39-338a-4088-9368-b66e2a0e681e",
   "metadata": {},
   "outputs": [
    {
     "data": {
      "text/plain": [
       "<matplotlib.image.AxesImage at 0x12347f4d0>"
      ]
     },
     "execution_count": 26,
     "metadata": {},
     "output_type": "execute_result"
    },
    {
     "data": {
      "image/png": "[encoded data removed]",
      "text/plain": [
       "<Figure size 640x480 with 1 Axes>"
      ]
     },
     "metadata": {},
     "output_type": "display_data"
    }
   ],
   "source": [
    "plt.imshow(env.get_state_representation(tuple_state=env.state_space[0])[0][0])"
   ]
  },
  {
   "cell_type": "code",
   "execution_count": null,
   "id": "5c37f812-394e-474f-90b0-03cd97187172",
   "metadata": {},
   "outputs": [],
   "source": []
  }
 ],
 "metadata": {
  "kernelspec": {
   "display_name": "sac",
   "language": "python",
   "name": "sac"
  },
  "language_info": {
   "codemirror_mode": {
    "name": "ipython",
    "version": 3
   },
   "file_extension": ".py",
   "mimetype": "text/x-python",
   "name": "python",
   "nbconvert_exporter": "python",
   "pygments_lexer": "ipython3",
   "version": "3.12.11"
  }
 },
 "nbformat": 4,
 "nbformat_minor": 5
}
